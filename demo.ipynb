{
 "cells": [
  {
   "cell_type": "markdown",
   "metadata": {},
   "source": [
    "# Embroid demonstration\n",
    "\n",
    "This notebook walks through a quick demonstration of how to apply Embroid to a set of predictions. For the purposes of this demonstration, we'll assume that (1) LM few-shot predictions have already been computed, and (2) embeddings for samples have already been computed. \n",
    "\n",
    "This demonstration is for the task \"DBPedia Animals,\" which requires an LM to classify if an entity is an animal based on the DBPedia description of that entity."
   ]
  },
  {
   "cell_type": "code",
   "execution_count": 1,
   "metadata": {},
   "outputs": [
    {
     "name": "stdout",
     "output_type": "stream",
     "text": [
      "Number of sources: 1. Number of samples: 2000\n"
     ]
    }
   ],
   "source": [
    "import numpy as np\n",
    "\n",
    "# Load labels\n",
    "labels = np.load(\"data/labels.npy\")\n",
    "\n",
    "# Load votes\n",
    "all_votes = np.load(\"data/votes.npy\")\n",
    "\n",
    "# Convert to -1/1 space\n",
    "all_votes = all_votes*2 - 1\n",
    "labels = labels*2 - 1\n",
    "\n",
    "n_samples, n_sources = all_votes.shape\n",
    "print(f\"Number of sources: {n_sources}. Number of samples: {n_samples}\")"
   ]
  },
  {
   "cell_type": "markdown",
   "metadata": {},
   "source": [
    "We use embeddings from three sources: RoBERTa, SentenceBERT, and BERT. We precomputed embeddings of the dataset under each of these embedding functions, along with nearest-neighbor information. The nearest-neighbor information is stored as arrays in pickle format, where arr[i, j] is the index for the jth closest sample to sample i."
   ]
  },
  {
   "cell_type": "code",
   "execution_count": 2,
   "metadata": {},
   "outputs": [
    {
     "name": "stdout",
     "output_type": "stream",
     "text": [
      "(3, 2000, 20)\n"
     ]
    }
   ],
   "source": [
    "import pickle\n",
    "\n",
    "nns = []\n",
    "for model in [\"roberta\", \"sbert\", \"bert\"]:\n",
    "    with open(f\"data/{model}_embeddings.pickle\", 'rb') as handle:\n",
    "        nns.append(pickle.load(handle))\n",
    "        \n",
    "# Compress into a single array\n",
    "nns = np.array(nns)\n",
    "print(nns.shape)"
   ]
  },
  {
   "cell_type": "markdown",
   "metadata": {},
   "source": [
    "Let's compute the performance of our single LM, using the original predictions."
   ]
  },
  {
   "cell_type": "code",
   "execution_count": 3,
   "metadata": {},
   "outputs": [
    {
     "name": "stdout",
     "output_type": "stream",
     "text": [
      "Macro F1 for initial prompt: 0.72\n"
     ]
    }
   ],
   "source": [
    "from sklearn.metrics import f1_score\n",
    "f1 = f1_score(labels, all_votes, average=\"macro\")\n",
    "print(f\"Macro F1 for initial prompt: {f1:.2f}\")"
   ]
  },
  {
   "cell_type": "markdown",
   "metadata": {},
   "source": [
    "Next, we run Embroid. As the original paper recommends, we use $\\tau^+ = P(\\lambda = 1)$ and $\\tau^- = P(\\lambda = -1)$ to set the thresholds when computing the neighborhood vote. The practical effect of this is: the neighborhood vote will agree with a source's vote if the source's vote is more concentrated in the neighborhood relative to its global concentration, and will vote against the source otherwise."
   ]
  },
  {
   "cell_type": "code",
   "execution_count": 5,
   "metadata": {},
   "outputs": [
    {
     "name": "stdout",
     "output_type": "stream",
     "text": [
      "Macro F1 for Embroid: 0.77\n"
     ]
    }
   ],
   "source": [
    "from embroid import run_embroid\n",
    "\n",
    "pos_frac = (all_votes[:, 0] == 1).mean()\n",
    "thresholds = [[1-pos_frac, pos_frac]]\n",
    "corrected_predictions = run_embroid(all_votes, nns, knn=10, thresholds=thresholds)\n",
    "f1 = f1_score(labels, corrected_predictions, average=\"macro\")\n",
    "print(f\"Macro F1 for Embroid: {f1:.2f}\")"
   ]
  }
 ],
 "metadata": {
  "kernelspec": {
   "display_name": "Python 3 (ipykernel)",
   "language": "python",
   "name": "python3"
  },
  "language_info": {
   "codemirror_mode": {
    "name": "ipython",
    "version": 3
   },
   "file_extension": ".py",
   "mimetype": "text/x-python",
   "name": "python",
   "nbconvert_exporter": "python",
   "pygments_lexer": "ipython3",
   "version": "3.9.5"
  }
 },
 "nbformat": 4,
 "nbformat_minor": 4
}
